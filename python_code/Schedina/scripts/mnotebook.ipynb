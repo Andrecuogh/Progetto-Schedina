{
 "cells": [
  {
   "cell_type": "code",
   "execution_count": 1,
   "metadata": {
    "id": "wVBOnmwKnqcn",
    "scrolled": false
   },
   "outputs": [
    {
     "name": "stdout",
     "output_type": "stream",
     "text": [
      "                           0         1         2         3         4\n",
      "Partita                                                             \n",
      "Roma-Verona         0.532387  0.153841  0.168782  0.127539  0.017451\n",
      "Udinese-Milan       0.620126  0.214829  0.096898  0.063099  0.005048\n",
      "Frosinone-Cagliari  0.331145  0.305824  0.203774  0.141996  0.017261\n",
      "Empoli-Monza        0.668578  0.184005  0.130368  0.013430  0.003620\n",
      "Salernitana-Genoa   0.501849  0.386467  0.076113  0.030592  0.004979\n",
      "Lecce-Juventus      0.678825  0.187067  0.115960  0.011481  0.006667\n",
      "Bologna-Fiorentina  0.603159  0.221987  0.148638  0.021086  0.005130\n",
      "Torino-Lazio        0.465274  0.306709  0.149890  0.069346  0.008781\n",
      "Sassuolo-Napoli     0.482157  0.272342  0.157196  0.056372  0.031933\n",
      "Inter-Atalanta      0.464117  0.131094  0.169010  0.207665  0.028115\n",
      "                           0         1         2         3         4\n",
      "Partita                                                             \n",
      "Roma-Verona         0.474545  0.356243  0.137002  0.024548  0.007663\n",
      "Udinese-Milan       0.226660  0.259318  0.325692  0.174762  0.013567\n",
      "Frosinone-Cagliari  0.317351  0.367423  0.191502  0.082451  0.041273\n",
      "Empoli-Monza        0.500684  0.217718  0.164877  0.086985  0.029736\n",
      "Salernitana-Genoa   0.271910  0.366151  0.174497  0.171636  0.015805\n",
      "Lecce-Juventus      0.222010  0.433191  0.305959  0.031527  0.007313\n",
      "Bologna-Fiorentina  0.506843  0.344501  0.103102  0.035716  0.009838\n",
      "Torino-Lazio        0.647070  0.202173  0.115934  0.028269  0.006553\n",
      "Sassuolo-Napoli     0.125485  0.394401  0.378993  0.064793  0.036327\n",
      "Inter-Atalanta      0.635239  0.207136  0.113926  0.030130  0.013568\n",
      "                           V         N         P\n",
      "Partita                                         \n",
      "Roma-Verona         0.514293  0.364924  0.120783\n",
      "Udinese-Milan       0.074517  0.223600  0.701883\n",
      "Frosinone-Cagliari  0.370498  0.474805  0.154697\n",
      "Empoli-Monza        0.178835  0.259387  0.561777\n",
      "Salernitana-Genoa   0.115516  0.620856  0.263628\n",
      "Lecce-Juventus      0.078082  0.309414  0.612503\n",
      "Bologna-Fiorentina  0.462145  0.427903  0.109952\n",
      "Torino-Lazio        0.594250  0.349874  0.055875\n",
      "Sassuolo-Napoli     0.195475  0.352290  0.452235\n",
      "Inter-Atalanta      0.880650  0.101623  0.017727\n",
      "                          GG        NG\n",
      "Partita                               \n",
      "Roma-Verona         0.521327  0.478673\n",
      "Udinese-Milan       0.616114  0.383886\n",
      "Frosinone-Cagliari  0.545024  0.454976\n",
      "Empoli-Monza        0.559242  0.440758\n",
      "Salernitana-Genoa   0.549763  0.450237\n",
      "Lecce-Juventus      0.616114  0.383886\n",
      "Bologna-Fiorentina  0.497630  0.502370\n",
      "Torino-Lazio        0.545024  0.454976\n",
      "Sassuolo-Napoli     0.611374  0.388626\n",
      "Inter-Atalanta      0.545024  0.454976\n",
      "                           O         U\n",
      "Partita                               \n",
      "Roma-Verona         0.291826  0.708174\n",
      "Udinese-Milan       0.538500  0.461500\n",
      "Frosinone-Cagliari  0.555453  0.444547\n",
      "Empoli-Monza        0.221948  0.778052\n",
      "Salernitana-Genoa   0.346855  0.653145\n",
      "Lecce-Juventus      0.334637  0.665363\n",
      "Bologna-Fiorentina  0.298820  0.701180\n",
      "Torino-Lazio        0.146822  0.853178\n",
      "Sassuolo-Napoli     0.559050  0.440950\n",
      "Inter-Atalanta      0.574922  0.425078\n"
     ]
    }
   ],
   "source": [
    "from set_up import league_season, league_data\n",
    "from etl import update\n",
    "from transform import merge, creation\n",
    "from predict import prediction, reportage\n",
    "\n",
    "import logging\n",
    "logging.basicConfig(filename='codeflow.log', encoding='utf-8', level=logging.DEBUG)  \n",
    "\n",
    "lat_day = league_data.latest_matchday()\n",
    "logging.info(f'Next day | {current}')\n",
    "\n",
    "update.update_df()\n",
    "\n",
    "list_ls = []\n",
    "for y, s in league_data.seasons.items():\n",
    "    list_ls.append(league_season.LeagueSeason(year=y, ongoing=s))\n",
    "\n",
    "df = merge.merge_df(list_ls)\n",
    "Xnot = creation.create_matchday_df(list_ls[-1], lat_day)\n",
    "logging.info(f'Targets | {Xnot}')\n",
    "\n",
    "predictions = [prediction.predict_scores(df, target, Xnot)\n",
    "               for target in league_data.targets]\n",
    "\n",
    "reportage.save_report(predictions)\n",
    "reportage.display_report(predictions)"
   ]
  }
 ],
 "metadata": {
  "colab": {
   "authorship_tag": "ABX9TyM2XRsNKWunOrNxsPa2LR1G",
   "mount_file_id": "107_MHKkyLNuidnqHJQkX1jo87tdsTua_",
   "provenance": []
  },
  "kernelspec": {
   "display_name": "Python 3 (ipykernel)",
   "language": "python",
   "name": "python3"
  },
  "language_info": {
   "codemirror_mode": {
    "name": "ipython",
    "version": 3
   },
   "file_extension": ".py",
   "mimetype": "text/x-python",
   "name": "python",
   "nbconvert_exporter": "python",
   "pygments_lexer": "ipython3",
   "version": "3.11.3"
  }
 },
 "nbformat": 4,
 "nbformat_minor": 1
}
