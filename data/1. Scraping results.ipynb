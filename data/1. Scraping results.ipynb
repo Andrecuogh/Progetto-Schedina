{
 "cells": [
  {
   "cell_type": "code",
   "execution_count": 1,
   "id": "432a11c0",
   "metadata": {},
   "outputs": [],
   "source": [
    "import numpy as np\n",
    "import pandas as pd\n",
    "import bs4\n",
    "import requests"
   ]
  },
  {
   "cell_type": "code",
   "execution_count": 2,
   "id": "9ffe9f66",
   "metadata": {},
   "outputs": [],
   "source": [
    "listaaa = []\n",
    "for n in np.arange(1,27):\n",
    "    r = requests.get(f'https://www.fantacalcio.it/serie-a/calendario/{n}')\n",
    "    soup = bs4.BeautifulSoup(r.content, 'html.parser')\n",
    "    table = soup.find('div', attrs={'class':'content'})\n",
    "    a = table.find_all('li', attrs={'class':'match time-on-left'})\n",
    "    lista = []\n",
    "    for i in a:\n",
    "        b = i.find_all('a')\n",
    "        l = []\n",
    "        for j in b:\n",
    "            stringa = j.getText()\n",
    "            stringa = stringa.replace('\\n', '')\n",
    "            stringa = stringa.replace(' ', '')\n",
    "            l.append(stringa)\n",
    "        lista.append(l)\n",
    "    listaaa.append(lista)"
   ]
  },
  {
   "cell_type": "code",
   "execution_count": 3,
   "id": "98987dd0",
   "metadata": {},
   "outputs": [],
   "source": [
    "with pd.ExcelWriter('Results22.xlsx') as writer:\n",
    "    for i, g in enumerate(listaaa):\n",
    "        pd.DataFrame(g).to_excel(writer, sheet_name=str(i))"
   ]
  },
  {
   "cell_type": "code",
   "execution_count": 89,
   "id": "1bf5501b",
   "metadata": {},
   "outputs": [],
   "source": [
    "df21 = pd.read_html('https://sport.sky.it/calcio/serie-a/2021/calendario-risultati#giornata-38')\n",
    "p = 0\n",
    "with pd.ExcelWriter('Results21.xlsx') as writer:\n",
    "    for b in df21:\n",
    "        a = b.drop(['Link partita', 'Girone'], axis=1).dropna(axis=1)\n",
    "        for n, j in enumerate(a['Stato partita'].values):\n",
    "            if len(j) > 23:\n",
    "                a.drop(n, inplace=True)\n",
    "        for t, t1, t2 in zip(np.arange(10), a['Risultato partita'].values, a['Stato partita'].values):\n",
    "            a.iloc[t, 0] = t1.split(' ')[0]\n",
    "            a.iloc[t, 2] = t2.split(' ')[0]\n",
    "        a = a[['Risultato partita', 'Stato partita', 'Squadra 2']].copy()\n",
    "        a.columns = [0, 1, 2]\n",
    "        a.reset_index(inplace=True, drop=True)\n",
    "        a.to_excel(writer, sheet_name = str(p))\n",
    "        p += 1"
   ]
  },
  {
   "cell_type": "code",
   "execution_count": 90,
   "id": "e0b2d806",
   "metadata": {},
   "outputs": [],
   "source": [
    "df20 = pd.read_html('https://sport.sky.it/calcio/serie-a/2020/calendario-risultati#giornata-38')\n",
    "p = 0\n",
    "with pd.ExcelWriter('Results20.xlsx') as writer:\n",
    "    for b in df20:\n",
    "        a = b.drop(['Link partita', 'Girone'], axis=1).dropna(axis=1)\n",
    "        for n, j in enumerate(a['Stato partita'].values):\n",
    "            if len(j) > 23:\n",
    "                a.drop(n, inplace=True)\n",
    "        for t, t1, t2 in zip(np.arange(10), a['Risultato partita'].values, a['Stato partita'].values):\n",
    "            a.iloc[t, 0] = t1.split(' ')[0]\n",
    "            a.iloc[t, 2] = t2.split(' ')[0]\n",
    "        a = a[['Risultato partita', 'Stato partita', 'Squadra 2']].copy()\n",
    "        a.columns = [0, 1, 2]\n",
    "        a.reset_index(inplace=True, drop=True)\n",
    "        a.to_excel(writer, sheet_name = str(p))\n",
    "        p += 1"
   ]
  },
  {
   "cell_type": "code",
   "execution_count": 92,
   "id": "d44409a5",
   "metadata": {},
   "outputs": [],
   "source": [
    "df19 = pd.read_html('https://sport.sky.it/calcio/serie-a/2019/calendario-risultati#giornata-38')\n",
    "p = 0\n",
    "with pd.ExcelWriter('Results19.xlsx') as writer:\n",
    "    for b in df19:\n",
    "        a = b.drop(['Link partita', 'Girone'], axis=1).dropna(axis=1)\n",
    "        for n, j in enumerate(a['Stato partita'].values):\n",
    "            if len(j) > 23:\n",
    "                a.drop(n, inplace=True)\n",
    "        for t, t1, t2 in zip(np.arange(10), a['Risultato partita'].values, a['Stato partita'].values):\n",
    "            a.iloc[t, 0] = t1.split(' ')[0]\n",
    "            a.iloc[t, 2] = t2.split(' ')[0]\n",
    "        a = a[['Risultato partita', 'Stato partita', 'Squadra 2']].copy()\n",
    "        a.columns = [0, 1, 2]\n",
    "        a.reset_index(inplace=True, drop=True)\n",
    "        a.to_excel(writer, sheet_name = str(p))\n",
    "        p += 1"
   ]
  },
  {
   "cell_type": "code",
   "execution_count": null,
   "id": "1d2d3232",
   "metadata": {},
   "outputs": [],
   "source": []
  }
 ],
 "metadata": {
  "kernelspec": {
   "display_name": "Python 3 (ipykernel)",
   "language": "python",
   "name": "python3"
  },
  "language_info": {
   "codemirror_mode": {
    "name": "ipython",
    "version": 3
   },
   "file_extension": ".py",
   "mimetype": "text/x-python",
   "name": "python",
   "nbconvert_exporter": "python",
   "pygments_lexer": "ipython3",
   "version": "3.11.0"
  }
 },
 "nbformat": 4,
 "nbformat_minor": 5
}
