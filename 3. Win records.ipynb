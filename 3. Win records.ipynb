{
 "cells": [
  {
   "cell_type": "code",
   "execution_count": 1,
   "id": "0437d879",
   "metadata": {},
   "outputs": [],
   "source": [
    "import numpy as np\n",
    "import pandas as pd"
   ]
  },
  {
   "cell_type": "code",
   "execution_count": 2,
   "id": "d9fe6dd6",
   "metadata": {},
   "outputs": [],
   "source": [
    "with pd.ExcelWriter('Hystory22.xlsx') as writer:    \n",
    "    for n in range(26):\n",
    "        df = pd.read_excel('Results22.xlsx', sheet_name = n, index_col=0)\n",
    "        results = pd.DataFrame(np.zeros((20, 2)))\n",
    "        for match in df.index:\n",
    "            results.iloc[match, 0] = df.iloc[match, 0]\n",
    "            results.iloc[match + 10, 0] = df.iloc[match, 1]\n",
    "            if df.iloc[match, 2].split('-')[0] > df.iloc[match, 2].split('-')[1]:\n",
    "                results.iloc[match, 1] = 'V'\n",
    "                results.iloc[match + 10, 1] = 'P'\n",
    "            elif df.iloc[match, 2].split('-')[0] == df.iloc[match, 2].split('-')[1]:\n",
    "                results.iloc[match, 1] = 'N'\n",
    "                results.iloc[match + 10, 1] = 'N'\n",
    "            else:\n",
    "                results.iloc[match, 1] = 'P'\n",
    "                results.iloc[match + 10, 1] = 'V'\n",
    "        results.columns = ['Squadra', 'Risultato']\n",
    "        results.to_excel(writer, sheet_name = str(n))"
   ]
  },
  {
   "cell_type": "code",
   "execution_count": 9,
   "id": "968722f5",
   "metadata": {},
   "outputs": [],
   "source": [
    "with pd.ExcelWriter('History21.xlsx') as writer:    \n",
    "    for n in range(38):\n",
    "        df = pd.read_excel('Results21.xlsx', sheet_name = n, index_col=0)\n",
    "        results = pd.DataFrame(np.zeros((20, 2)))\n",
    "        for match in df.index:\n",
    "            results.iloc[match, 0] = df.iloc[match, 0]\n",
    "            results.iloc[match + 10, 0] = df.iloc[match, 1]\n",
    "            if df.iloc[match, 2].split(' - ')[0] > df.iloc[match, 2].split(' - ')[1]:\n",
    "                results.iloc[match, 1] = 'V'\n",
    "                results.iloc[match + 10, 1] = 'P'\n",
    "            elif df.iloc[match, 2].split(' - ')[0] == df.iloc[match, 2].split(' - ')[1]:\n",
    "                results.iloc[match, 1] = 'N'\n",
    "                results.iloc[match + 10, 1] = 'N'\n",
    "            else:\n",
    "                results.iloc[match, 1] = 'P'\n",
    "                results.iloc[match + 10, 1] = 'V'\n",
    "        results.columns = ['Squadra', 'Risultato']\n",
    "        results.to_excel(writer, sheet_name = str(n))"
   ]
  },
  {
   "cell_type": "code",
   "execution_count": 10,
   "id": "d5c3088f",
   "metadata": {},
   "outputs": [],
   "source": [
    "with pd.ExcelWriter('History20.xlsx') as writer:    \n",
    "    for n in range(38):\n",
    "        df = pd.read_excel('Results20.xlsx', sheet_name = n, index_col=0)\n",
    "        results = pd.DataFrame(np.zeros((20, 2)))\n",
    "        for match in df.index:\n",
    "            results.iloc[match, 0] = df.iloc[match, 0]\n",
    "            results.iloc[match + 10, 0] = df.iloc[match, 1]\n",
    "            if df.iloc[match, 2].split(' - ')[0] > df.iloc[match, 2].split(' - ')[1]:\n",
    "                results.iloc[match, 1] = 'V'\n",
    "                results.iloc[match + 10, 1] = 'P'\n",
    "            elif df.iloc[match, 2].split(' - ')[0] == df.iloc[match, 2].split(' - ')[1]:\n",
    "                results.iloc[match, 1] = 'N'\n",
    "                results.iloc[match + 10, 1] = 'N'\n",
    "            else:\n",
    "                results.iloc[match, 1] = 'P'\n",
    "                results.iloc[match + 10, 1] = 'V'\n",
    "        results.columns = ['Squadra', 'Risultato']\n",
    "        results.to_excel(writer, sheet_name = str(n))"
   ]
  },
  {
   "cell_type": "code",
   "execution_count": 11,
   "id": "0cc3b031",
   "metadata": {},
   "outputs": [],
   "source": [
    "with pd.ExcelWriter('History19.xlsx') as writer:    \n",
    "    for n in range(38):\n",
    "        df = pd.read_excel('Results19.xlsx', sheet_name = n, index_col=0)\n",
    "        results = pd.DataFrame(np.zeros((20, 2)))\n",
    "        for match in df.index:\n",
    "            results.iloc[match, 0] = df.iloc[match, 0]\n",
    "            results.iloc[match + 10, 0] = df.iloc[match, 1]\n",
    "            if df.iloc[match, 2].split(' - ')[0] > df.iloc[match, 2].split(' - ')[1]:\n",
    "                results.iloc[match, 1] = 'V'\n",
    "                results.iloc[match + 10, 1] = 'P'\n",
    "            elif df.iloc[match, 2].split(' - ')[0] == df.iloc[match, 2].split(' - ')[1]:\n",
    "                results.iloc[match, 1] = 'N'\n",
    "                results.iloc[match + 10, 1] = 'N'\n",
    "            else:\n",
    "                results.iloc[match, 1] = 'P'\n",
    "                results.iloc[match + 10, 1] = 'V'\n",
    "        results.columns = ['Squadra', 'Risultato']\n",
    "        results.to_excel(writer, sheet_name = str(n))"
   ]
  },
  {
   "cell_type": "code",
   "execution_count": null,
   "id": "9aa32c0d",
   "metadata": {},
   "outputs": [],
   "source": []
  }
 ],
 "metadata": {
  "kernelspec": {
   "display_name": "Python 3 (ipykernel)",
   "language": "python",
   "name": "python3"
  },
  "language_info": {
   "codemirror_mode": {
    "name": "ipython",
    "version": 3
   },
   "file_extension": ".py",
   "mimetype": "text/x-python",
   "name": "python",
   "nbconvert_exporter": "python",
   "pygments_lexer": "ipython3",
   "version": "3.11.0"
  }
 },
 "nbformat": 4,
 "nbformat_minor": 5
}
