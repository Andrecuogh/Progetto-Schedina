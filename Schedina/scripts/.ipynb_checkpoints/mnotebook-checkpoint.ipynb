{
 "cells": [
  {
   "cell_type": "code",
   "execution_count": 1,
   "metadata": {
    "id": "wVBOnmwKnqcn",
    "scrolled": false
   },
   "outputs": [
    {
     "name": "stdout",
     "output_type": "stream",
     "text": [
      "                             0         1         2         3         4\n",
      "Partita                                                               \n",
      "Bologna-Genoa         0.242590  0.403391  0.299349  0.048839  0.005832\n",
      "Inter-Verona          0.465590  0.223260  0.106602  0.156715  0.047833\n",
      "Frosinone-Monza       0.358985  0.467793  0.108521  0.058175  0.006527\n",
      "Lecce-Cagliari        0.309720  0.420510  0.205398  0.056163  0.008209\n",
      "Sassuolo-Fiorentina   0.454362  0.243028  0.192732  0.067874  0.042005\n",
      "Empoli-Milan          0.854609  0.072708  0.049890  0.020174  0.002619\n",
      "Torino-Napoli         0.722677  0.205297  0.060330  0.008898  0.002797\n",
      "Udinese-Lazio         0.366484  0.349502  0.232581  0.044799  0.006634\n",
      "Salernitana-Juventus  0.842413  0.079912  0.068516  0.005790  0.003370\n",
      "Roma-Atalanta         0.622394  0.175167  0.092914  0.074760  0.034765\n",
      "                             0         1         2         3         4\n",
      "Partita                                                               \n",
      "Bologna-Genoa         0.539664  0.308325  0.107875  0.036454  0.007682\n",
      "Inter-Verona          0.860501  0.103400  0.028509  0.005797  0.001794\n",
      "Frosinone-Monza       0.403239  0.300110  0.211852  0.074713  0.010087\n",
      "Lecce-Cagliari        0.440431  0.350345  0.160121  0.041072  0.008031\n",
      "Sassuolo-Fiorentina   0.091655  0.374918  0.415848  0.100528  0.017051\n",
      "Empoli-Milan          0.275459  0.255734  0.306616  0.138166  0.024024\n",
      "Torino-Napoli         0.573787  0.209134  0.130987  0.065097  0.020996\n",
      "Udinese-Lazio         0.385015  0.322956  0.196450  0.084897  0.010683\n",
      "Salernitana-Juventus  0.094763  0.386537  0.445835  0.058803  0.014062\n",
      "Roma-Atalanta         0.338602  0.422213  0.182089  0.049502  0.007594\n",
      "                             V         N         P\n",
      "Partita                                           \n",
      "Bologna-Genoa         0.450271  0.417294  0.132435\n",
      "Inter-Verona          0.901769  0.088746  0.009485\n",
      "Frosinone-Monza       0.234460  0.531295  0.234246\n",
      "Lecce-Cagliari        0.347150  0.530742  0.122108\n",
      "Sassuolo-Fiorentina   0.310447  0.361885  0.327668\n",
      "Empoli-Milan          0.185917  0.258502  0.555582\n",
      "Torino-Napoli         0.069288  0.349214  0.581498\n",
      "Udinese-Lazio         0.153034  0.492454  0.354512\n",
      "Salernitana-Juventus  0.064110  0.261918  0.673972\n",
      "Roma-Atalanta         0.443131  0.327969  0.228900\n",
      "                            GG        NG\n",
      "Partita                                 \n",
      "Bologna-Genoa         0.249737  0.750263\n",
      "Inter-Verona          0.104594  0.895406\n",
      "Frosinone-Monza       0.543058  0.456942\n",
      "Lecce-Cagliari        0.609872  0.390128\n",
      "Sassuolo-Fiorentina   0.779689  0.220311\n",
      "Empoli-Milan          0.159662  0.840338\n",
      "Torino-Napoli         0.247360  0.752640\n",
      "Udinese-Lazio         0.303823  0.696177\n",
      "Salernitana-Juventus  0.423581  0.576419\n",
      "Roma-Atalanta         0.305616  0.694384\n",
      "                             O         U\n",
      "Partita                                 \n",
      "Bologna-Genoa         0.215011  0.784989\n",
      "Inter-Verona          0.505481  0.494519\n",
      "Frosinone-Monza       0.343803  0.656197\n",
      "Lecce-Cagliari        0.267215  0.732785\n",
      "Sassuolo-Fiorentina   0.529638  0.470362\n",
      "Empoli-Milan          0.176702  0.823298\n",
      "Torino-Napoli         0.192993  0.807007\n",
      "Udinese-Lazio         0.319537  0.680463\n",
      "Salernitana-Juventus  0.375823  0.624177\n",
      "Roma-Atalanta         0.144444  0.855556\n"
     ]
    }
   ],
   "source": [
    "from set_up import league_season, league_data\n",
    "from etl import update\n",
    "from transform import merge, creation\n",
    "from predict import prediction, reportage\n",
    "from gitconnect import transfer\n",
    "\n",
    "lat_day = league_data.latest_matchday()\n",
    "\n",
    "update.update_df()\n",
    "\n",
    "list_ls = []\n",
    "for y, s in league_data.seasons.items():\n",
    "    list_ls.append(league_season.LeagueSeason(year=y, ongoing=s))\n",
    "\n",
    "df = merge.merge_df(list_ls)\n",
    "Xnot = creation.create_matchday_df(list_ls[-1], lat_day)\n",
    "\n",
    "predictions = [prediction.predict_scores(df, target, Xnot)\n",
    "               for target in league_data.targets]\n",
    "\n",
    "reportage.save_report(predictions)\n",
    "reportage.display_report(predictions)\n",
    "\n",
    "transfer.to_git()"
   ]
  }
 ],
 "metadata": {
  "colab": {
   "authorship_tag": "ABX9TyM2XRsNKWunOrNxsPa2LR1G",
   "mount_file_id": "107_MHKkyLNuidnqHJQkX1jo87tdsTua_",
   "provenance": []
  },
  "kernelspec": {
   "display_name": "Python 3 (ipykernel)",
   "language": "python",
   "name": "python3"
  },
  "language_info": {
   "codemirror_mode": {
    "name": "ipython",
    "version": 3
   },
   "file_extension": ".py",
   "mimetype": "text/x-python",
   "name": "python",
   "nbconvert_exporter": "python",
   "pygments_lexer": "ipython3",
   "version": "3.11.3"
  }
 },
 "nbformat": 4,
 "nbformat_minor": 1
}
